{
 "cells": [
  {
   "cell_type": "code",
   "execution_count": 1,
   "metadata": {},
   "outputs": [],
   "source": [
    "from InstagramAPI import InstagramAPI # instalación : https://github.com/LevPasha/Instagram-API-python\n",
    "import time\n",
    "from datetime import datetime\n",
    "import requests\n",
    "import pandas as pd\n",
    "from pandas.io.json import json_normalize\n",
    "import json"
   ]
  },
  {
   "cell_type": "code",
   "execution_count": 2,
   "metadata": {},
   "outputs": [],
   "source": [
    "url = \"https://www.instagram.com/p/BxLM31vhtxh/\"\n",
    "\n",
    "# funcion que convierte url(ej: https://www.instagram.com/p/BxLM31vhtxh/ ) a media_id\n",
    "def get_media_id(url):\n",
    "    req = requests.get('https://api.instagram.com/oembed/?url={}'.format(url))\n",
    "    media_id = req.json()['media_id']\n",
    "    return media_id"
   ]
  },
  {
   "cell_type": "code",
   "execution_count": 3,
   "metadata": {},
   "outputs": [],
   "source": [
    "# stop conditions, the script will end when first of them will be true\n",
    "count = 10\n",
    "username = \"xavihernandezc\"\n",
    "password = \"XXXXXXXXXXXXXXX\"\n"
   ]
  },
  {
   "cell_type": "code",
   "execution_count": 4,
   "metadata": {},
   "outputs": [
    {
     "name": "stdout",
     "output_type": "stream",
     "text": [
      "Request return 404 error!\n",
      "Login success!\n",
      "\n"
     ]
    }
   ],
   "source": [
    "# se debe quitar de instagram autentificación por dos factores, o de lo contrario debe investigarse como realizar el login\n",
    "API = InstagramAPI(username, password)\n",
    "API.login()\n",
    "#API.getUsernameInfo()\n",
    "has_more_comments = True\n",
    "max_id = ''\n",
    "comments = []"
   ]
  },
  {
   "cell_type": "code",
   "execution_count": 8,
   "metadata": {},
   "outputs": [],
   "source": [
    "instagram = pd.DataFrame()\n",
    "media_id  = get_media_id(url)\n",
    "while has_more_comments:\n",
    "    _ = API.getMediaComments(media_id, max_id=max_id)\n",
    "    # comments' page come from older to newer, lets preserve desc order in full list\n",
    "    for c in reversed(API.LastJson['comments']):\n",
    "        #print(c)\n",
    "        datos = json_normalize(c)\n",
    "        instagram = instagram.append(datos , ignore_index=True)\n",
    "\n",
    "    has_more_comments = API.LastJson.get('has_more_comments', False)\n",
    "    # evaluate stop conditions\n",
    "    if count and len(comments) >= count:\n",
    "        comments = comments[:count]\n",
    "        # stop loop\n",
    "        has_more_comments = False\n",
    "        print(\"stopped by count\")\n",
    "    # next page\n",
    "    if has_more_comments:\n",
    "        max_id = API.LastJson.get('next_max_id', '')\n",
    "        time.sleep(2)\n"
   ]
  },
  {
   "cell_type": "code",
   "execution_count": 13,
   "metadata": {},
   "outputs": [
    {
     "data": {
      "text/html": [
       "<div>\n",
       "<style scoped>\n",
       "    .dataframe tbody tr th:only-of-type {\n",
       "        vertical-align: middle;\n",
       "    }\n",
       "\n",
       "    .dataframe tbody tr th {\n",
       "        vertical-align: top;\n",
       "    }\n",
       "\n",
       "    .dataframe thead th {\n",
       "        text-align: right;\n",
       "    }\n",
       "</style>\n",
       "<table border=\"1\" class=\"dataframe\">\n",
       "  <thead>\n",
       "    <tr style=\"text-align: right;\">\n",
       "      <th></th>\n",
       "    </tr>\n",
       "  </thead>\n",
       "  <tbody>\n",
       "  </tbody>\n",
       "</table>\n",
       "</div>"
      ],
      "text/plain": [
       "Empty DataFrame\n",
       "Columns: []\n",
       "Index: []"
      ]
     },
     "execution_count": 13,
     "metadata": {},
     "output_type": "execute_result"
    }
   ],
   "source": [
    "instagram.head(15)"
   ]
  },
  {
   "cell_type": "code",
   "execution_count": 12,
   "metadata": {},
   "outputs": [
    {
     "data": {
      "text/plain": [
       "array([], dtype=object)"
      ]
     },
     "execution_count": 12,
     "metadata": {},
     "output_type": "execute_result"
    }
   ],
   "source": [
    "instagram.columns.values"
   ]
  },
  {
   "cell_type": "code",
   "execution_count": 7,
   "metadata": {},
   "outputs": [],
   "source": [
    "instagram.to_csv('instagram.csv')"
   ]
  },
  {
   "cell_type": "code",
   "execution_count": null,
   "metadata": {},
   "outputs": [],
   "source": []
  }
 ],
 "metadata": {
  "kernelspec": {
   "display_name": "Python 3",
   "language": "python",
   "name": "python3"
  },
  "language_info": {
   "codemirror_mode": {
    "name": "ipython",
    "version": 3
   },
   "file_extension": ".py",
   "mimetype": "text/x-python",
   "name": "python",
   "nbconvert_exporter": "python",
   "pygments_lexer": "ipython3",
   "version": "3.7.1"
  }
 },
 "nbformat": 4,
 "nbformat_minor": 2
}
