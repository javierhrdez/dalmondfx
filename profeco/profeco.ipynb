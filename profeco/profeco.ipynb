{
 "cells": [
  {
   "cell_type": "code",
   "execution_count": 1,
   "metadata": {},
   "outputs": [],
   "source": [
    "import requests\n",
    "from bs4 import BeautifulSoup\n",
    "import json\n",
    "from pprint import pprint\n",
    "from math import ceil\n",
    "import pandas as pd\n",
    "from pandas.io.json import json_normalize"
   ]
  },
  {
   "cell_type": "code",
   "execution_count": 2,
   "metadata": {},
   "outputs": [],
   "source": [
    "page = 1\n",
    "pageSize = 100\n",
    "profeco = pd.DataFrame()\n",
    "while True:\n",
    "\n",
    "    r = requests.get(\"https://datos.profeco.gob.mx/quejas/consulta.php?ESTADO_PROCESAL=Conciliada&ESTADO_UA=DISTRITO FEDERAL&page={}&pageSize={}\".format(page,pageSize))\n",
    "    #print(r.text)\n",
    "    soup = BeautifulSoup(r.content, 'html.parser')\n",
    "    data = str(soup)[417:]\n",
    "    json_data = json.loads(data)\n",
    "\n",
    "    ### paginacion\n",
    "\n",
    "    pagination = json_data['pagination']\n",
    "    total =  pagination.get('total')\n",
    "    \n",
    "    #print(json_data['pagination'])\n",
    "    #print(total)\n",
    "    #print(\"*****************\")\n",
    "    page += 1\n",
    "    #paginas = ceil(total/pageSize)\n",
    "    paginas = 5\n",
    "    if page> paginas:\n",
    "        break\n",
    "\n",
    "    results = json_data['results']\n",
    "    #pprint(results)\n",
    "    datos = json_normalize(results)\n",
    "    profeco = profeco.append(datos , ignore_index=True)\n",
    "    #pprint(datos)\n",
    "\n",
    "\n",
    "#https://datos.profeco.gob.mx/quejas/catalogo.php?catalogo=GIRO&pageSize=100\n",
    "\n",
    "#r = requests.get(\"https://datos.profeco.gob.mx/quejas/catalogo.php?catalogo=ESTADO_UA\")\n",
    "#print(r.text)\n"
   ]
  },
  {
   "cell_type": "code",
   "execution_count": 7,
   "metadata": {},
   "outputs": [
    {
     "name": "stdout",
     "output_type": "stream",
     "text": [
      "  BIEN_SERVICIO COSTO_BIEN ESTADO_PROCESAL         ESTADO_UA   FECHA_FIN  \\\n",
      "0          Bien      38000      Conciliada  DISTRITO FEDERAL  15-08-2016   \n",
      "1          Bien        750      Conciliada  DISTRITO FEDERAL  26-02-2016   \n",
      "2          Bien      44480      Conciliada  DISTRITO FEDERAL  09-02-2016   \n",
      "3      Servicio    1816.35      Conciliada  DISTRITO FEDERAL  21-04-2016   \n",
      "4      Servicio     160000      Conciliada  DISTRITO FEDERAL  02-06-2016   \n",
      "\n",
      "  FECHA_INGRESO                                            GIRO       ID_EXP  \\\n",
      "0    31-12-2015      Tienda especializada en cocinas integrales  2015_139465   \n",
      "1    31-12-2015  Tienda especializada en productos electrónicos  2015_137727   \n",
      "2    31-12-2015                                       Mueblería  2015_139464   \n",
      "3    31-12-2015                       Montepío o casa de empeño  2015_138099   \n",
      "4    31-12-2015                  Compañía de autofinanciamiento  2015_138100   \n",
      "\n",
      "  MEDIO_INGRESO           MODALIDAD_COMPRA    ...        PROBLEMA_ESPECIAL  \\\n",
      "0      Personal  En establecimiento físico    ...     No problema especial   \n",
      "1       Escrito  En establecimiento físico    ...     No problema especial   \n",
      "2      Personal  En establecimiento físico    ...     No problema especial   \n",
      "3      Personal  En establecimiento físico    ...     No problema especial   \n",
      "4      Personal  En establecimiento físico    ...     No problema especial   \n",
      "\n",
      "  PROCEDIMIENTO                                          PROVEEDOR RECLAMADO  \\\n",
      "0         Queja                             MA. ELENA SORIA ORTEGA         0   \n",
      "1         Queja  PROMOTORA ELECTRODOMESTICA SERVICIO REFACCIONE...       525   \n",
      "2         Queja                 DIVERSIDAD PARA EL HOGAR, SA DE CV     44480   \n",
      "3         Queja                          MONTEPIO LUZ SAVIÑON, IAP         0   \n",
      "4         Queja              AUTOCLUB AUTOFINANCIAMIENTO, SA DE CV     10000   \n",
      "\n",
      "  RECUPERADO                                          SECTOR  \\\n",
      "0       5000      TIENDA ESPECIALIZADA EN COCINAS INTEGRALES   \n",
      "1        750  TIENDA ESPECIALIZADA EN PRODUCTOS ELECTRÓNICOS   \n",
      "2      44480                                        MUEBLERO   \n",
      "3       1816                       MONTEPÍO O CASA DE EMPEÑO   \n",
      "4      10000                  COMPAÑÍA DE AUTOFINANCIAMIENTO   \n",
      "\n",
      "               TIPO_CONCILIACION    TIPO_PRODUCTO  \\\n",
      "0  Turnada a Concil Person p/seg   Producto nuevo   \n",
      "1  Turnada a Concil Person p/seg   Producto nuevo   \n",
      "2  Turnada a Concil Person p/seg   Producto nuevo   \n",
      "3  Turnada a Concil Person p/seg  Servicio normal   \n",
      "4  Turnada a Concil Person p/seg   Producto nuevo   \n",
      "\n",
      "                                    TIPO_RECLAMACION        UA  \n",
      "0             Cambios, devoluciones o bonificaciones       Sur  \n",
      "1  Ausencia de Información al consumidor sobre el...   Oriente  \n",
      "2                                          Contratos       Sur  \n",
      "3                    Entrega del producto o servicio  Poniente  \n",
      "4                                          Contratos  Poniente  \n",
      "\n",
      "[5 rows x 23 columns]\n"
     ]
    }
   ],
   "source": [
    "print(profeco.head())"
   ]
  },
  {
   "cell_type": "code",
   "execution_count": 8,
   "metadata": {},
   "outputs": [
    {
     "data": {
      "text/plain": [
       "(400, 23)"
      ]
     },
     "execution_count": 8,
     "metadata": {},
     "output_type": "execute_result"
    }
   ],
   "source": [
    "profeco.shape"
   ]
  },
  {
   "cell_type": "code",
   "execution_count": null,
   "metadata": {},
   "outputs": [],
   "source": [
    "profeco.to_csv('profeco.csv')"
   ]
  }
 ],
 "metadata": {
  "kernelspec": {
   "display_name": "Python 3",
   "language": "python",
   "name": "python3"
  },
  "language_info": {
   "codemirror_mode": {
    "name": "ipython",
    "version": 3
   },
   "file_extension": ".py",
   "mimetype": "text/x-python",
   "name": "python",
   "nbconvert_exporter": "python",
   "pygments_lexer": "ipython3",
   "version": "3.7.1"
  }
 },
 "nbformat": 4,
 "nbformat_minor": 2
}
